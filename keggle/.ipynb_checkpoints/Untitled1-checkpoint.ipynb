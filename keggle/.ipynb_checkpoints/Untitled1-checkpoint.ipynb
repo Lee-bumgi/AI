{
 "cells": [
  {
   "cell_type": "code",
   "execution_count": 41,
   "id": "c85bd57d",
   "metadata": {},
   "outputs": [],
   "source": [
    "import pandas as pd\n",
    "import numpy as np\n",
    "import seaborn as sns\n",
    "import matplotlib.pyplot as plt\n",
    "from sklearn.neighbors import KNeighborsClassifier\n",
    "from sklearn.tree import DecisionTreeClassifier\n",
    "from sklearn.preprocessing import StandardScaler\n",
    "from sklearn.model_selection import train_test_split\n",
    "from sklearn.model_selection import cross_val_score\n",
    "from sklearn.ensemble import RandomForestClassifier\n",
    "from sklearn.model_selection import GridSearchCV\n",
    "from xgboost import XGBClassifier\n",
    "\n",
    "train = pd.read_csv('./data/train.csv', index_col='no')\n",
    "test = pd.read_csv('./data/test.csv', index_col='no')\n",
    "\n",
    "def strip_title(row):\n",
    "    return row.strip()\n",
    "\n",
    "# train 공백제거\n",
    "# except pass 는 수치형나오면 오류나는거를 pass한것\n",
    "for i in range(len(train.columns)):\n",
    "    try:\n",
    "        train.iloc[:,i] = train.iloc[:,i].apply(strip_title)\n",
    "    except:\n",
    "        pass\n",
    "# test 공백제거\n",
    "for i in range(len(test.columns)):\n",
    "    try:\n",
    "        test.iloc[:,i] = test.iloc[:,i].apply(strip_title)\n",
    "    except:\n",
    "        pass\n",
    "\n",
    "\n",
    "# ?을 other로 변환\n",
    "train['occupation'] = train['occupation'].replace('?','other')\n",
    "train['workclass'] = train['workclass'].replace('?','other')\n",
    "train['native-country'] = train['native-country'].replace('?','other')\n",
    "\n",
    "# ?을 other로 변환\n",
    "test['occupation'] = test['occupation'].replace('?','other')\n",
    "test['workclass'] = test['workclass'].replace('?','other')\n",
    "test['native-country'] = test['native-country'].replace('?','other')\n",
    "\n",
    "# train.drop(['fnlwgt','capital-gain', 'capital-loss','education'],axis=1,inplace=True)\n",
    "# test.drop(['fnlwgt','capital-gain', 'capital-loss','education'],axis=1,inplace=True)\n",
    "\n",
    "train.drop(['fnlwgt','education'],axis=1,inplace=True)\n",
    "test.drop(['fnlwgt','education'],axis=1,inplace=True)\n",
    "\n",
    "train['native-country'] = train['native-country'].map({'United-States':'United-States',\"other\":'United-States'})\n",
    "train['native-country'].fillna(\"other-country\",inplace=True)\n",
    "test['native-country'] = test['native-country'].map({'United-States':'United-States',\"other\":'United-States'})\n",
    "test['native-country'].fillna(\"other-country\",inplace=True)\n",
    "\n",
    "# 인코딩할 컬럼명만 선택\n",
    "categorical_features = ['workclass', 'marital-status', 'occupation', 'relationship', 'race', 'sex', 'native-country']\n",
    "# categorical_features = ['workclass','occupation']\n",
    "# 반복문으로 인코딩하기\n",
    "for feature_name in categorical_features:\n",
    "    one_hot = pd.get_dummies(train[feature_name], prefix = feature_name)\n",
    "    train = pd.concat([train,one_hot], axis=1) # 기존 데이터 끝에 one_hot을 붙임.\n",
    "    train.drop(feature_name, axis=1, inplace=True) # 기존 글자컬럼을 삭제\n",
    "    \n",
    "for feature_name in categorical_features:\n",
    "    one_hot = pd.get_dummies(test[feature_name], prefix = feature_name)\n",
    "    test = pd.concat([test,one_hot], axis=1) # 기존 데이터 끝에 one_hot을 붙임.\n",
    "    test.drop(feature_name, axis=1, inplace=True) # 기존 글자컬럼을 삭제\n",
    "train.drop(\"workclass_other\", axis = 1, inplace = True)\n",
    "test.drop(\"workclass_other\", axis = 1, inplace = True)\n",
    "\n",
    "\n",
    "train.sort_index(axis=1, inplace=True)\n",
    "test.sort_index(axis=1, inplace=True)\n",
    "X_train = train.drop(['income'], axis=1)\n",
    "y_train = train.income\n",
    "X_test=test\n",
    "X_train.sort_index(axis=1, inplace=True)\n",
    "X_test.sort_index(axis=1, inplace=True)\n",
    "X_train, X_test, y_train, y_test = train_test_split(X_train, y_train, random_state=0)"
   ]
  },
  {
   "cell_type": "code",
   "execution_count": 42,
   "id": "0a91ab93",
   "metadata": {},
   "outputs": [
    {
     "name": "stdout",
     "output_type": "stream",
     "text": [
      "훈련 세트 정확도 : 0.861\n",
      "테스트 세트 정확도 : 0.863\n"
     ]
    }
   ],
   "source": [
    "from sklearn.ensemble import AdaBoostClassifier\n",
    "\n",
    "bagging_adb = AdaBoostClassifier(n_estimators=90, random_state=10)\n",
    "bagging_adb.fit(X_train, y_train)\n",
    "\n",
    "print(\"훈련 세트 정확도 : {:.3f}\".format(bagging_adb.score(X_train, y_train)))\n",
    "print(\"테스트 세트 정확도 : {:.3f}\".format(bagging_adb.score(X_test, y_test)))"
   ]
  },
  {
   "cell_type": "code",
   "execution_count": null,
   "id": "b33aa81f",
   "metadata": {},
   "outputs": [],
   "source": []
  },
  {
   "cell_type": "code",
   "execution_count": null,
   "id": "47254eb8",
   "metadata": {},
   "outputs": [],
   "source": []
  },
  {
   "cell_type": "code",
   "execution_count": 60,
   "id": "4e44544e",
   "metadata": {},
   "outputs": [],
   "source": [
    "# 시작값과 끝값을 설정\n",
    "param_grid = {\"n_estimators\": (50, 100),\n",
    "              \"max_features\": (10, 30),\n",
    "             'max_depth': (10,14,18)}"
   ]
  },
  {
   "cell_type": "code",
   "execution_count": 61,
   "id": "08c22064",
   "metadata": {},
   "outputs": [
    {
     "data": {
      "text/plain": [
       "BayesSearchCV(cv=8, estimator=RandomForestClassifier(), n_jobs=-1,\n",
       "              random_state=721,\n",
       "              search_spaces={'max_depth': (10, 14, 18),\n",
       "                             'max_features': (10, 30),\n",
       "                             'n_estimators': (50, 100)})"
      ]
     },
     "execution_count": 61,
     "metadata": {},
     "output_type": "execute_result"
    }
   ],
   "source": [
    "from skopt import BayesSearchCV\n",
    "import warnings\n",
    "\n",
    "warnings.filterwarnings('ignore')\n",
    "\n",
    "bayes_search = BayesSearchCV(RandomForestClassifier(), \n",
    "                             param_grid, \n",
    "                             random_state=721,\n",
    "                             cv=8,\n",
    "                             n_jobs=-1)\n",
    "\n",
    "bayes_search.fit(X_train, y_train)"
   ]
  },
  {
   "cell_type": "code",
   "execution_count": 62,
   "id": "fbc147f4",
   "metadata": {},
   "outputs": [
    {
     "name": "stdout",
     "output_type": "stream",
     "text": [
      "테스트 세트 점수: 0.8622\n"
     ]
    }
   ],
   "source": [
    "print(\"테스트 세트 점수: {:.4f}\".format(bayes_search.score(X_test, y_test)))"
   ]
  },
  {
   "cell_type": "code",
   "execution_count": 63,
   "id": "ba5a653d",
   "metadata": {},
   "outputs": [
    {
     "name": "stdout",
     "output_type": "stream",
     "text": [
      "최적 매개변수: OrderedDict([('max_depth', 14), ('max_features', 18), ('n_estimators', 65)])\n",
      "최고 교차 검증 점수: 0.8624\n",
      "최고 성능 모델:\n",
      "RandomForestClassifier(max_depth=14, max_features=18, n_estimators=65)\n"
     ]
    }
   ],
   "source": [
    "print(\"최적 매개변수: {}\".format(bayes_search.best_params_))\n",
    "print(\"최고 교차 검증 점수: {:.4f}\".format(bayes_search.best_score_))\n",
    "print(\"최고 성능 모델:\\n{}\".format(bayes_search.best_estimator_))"
   ]
  },
  {
   "cell_type": "code",
   "execution_count": null,
   "id": "79030ead",
   "metadata": {},
   "outputs": [],
   "source": []
  },
  {
   "cell_type": "code",
   "execution_count": null,
   "id": "5351c49a",
   "metadata": {},
   "outputs": [],
   "source": []
  },
  {
   "cell_type": "code",
   "execution_count": null,
   "id": "a759c998",
   "metadata": {},
   "outputs": [],
   "source": [
    "# 시작값과 끝값을 설정\n",
    "param_grid = {\"n_estimators\": (50, 100),\n",
    "              \"max_features\": (10, 30),\n",
    "             'max_depth': (10,14,18)}\n",
    "# 최적 매개변수: OrderedDict([('max_depth', 14), ('max_features', 18), ('n_estimators', 65)])\n",
    "# 최고 교차 검증 점수: 0.8624\n",
    "# 최고 성능 모델:\n",
    "# RandomForestClassifier(max_depth=14, max_features=18, n_estimators=65)"
   ]
  },
  {
   "cell_type": "code",
   "execution_count": null,
   "id": "fb9869b0",
   "metadata": {},
   "outputs": [],
   "source": [
    "param_grid = {\"n_estimators\": (50, 100),\n",
    "              \"max_features\": (10, 30),\n",
    "             'max_depth': (4,5,6)}\n",
    "bayes_search = BayesSearchCV(RandomForestClassifier(), \n",
    "                             param_grid, \n",
    "                             random_state=721,\n",
    "                             cv=5,\n",
    "                             n_jobs=-1)\n",
    "\n",
    "bayes_search.fit(X_train, y_train)print(\"최적 매개변수: {}\".format(bayes_search.best_params_))\n",
    "print(\"최고 교차 검증 점수: {:.4f}\".format(bayes_search.best_score_))\n",
    "print(\"최고 성능 모델:\\n{}\".format(bayes_search.best_estimator_))\n",
    "# 최적 매개변수: OrderedDict([('max_depth', 6), ('max_features', 21), ('n_estimators', 69)])\n",
    "# 최고 교차 검증 점수: 0.8543\n",
    "# 최고 성능 모델:\n",
    "# RandomForestClassifier(max_depth=6, max_features=21, n_estimators=69)"
   ]
  },
  {
   "cell_type": "code",
   "execution_count": null,
   "id": "2146bafb",
   "metadata": {},
   "outputs": [],
   "source": [
    "print(\"최적 매개변수: {}\".format(bayes_search.best_params_))\n",
    "print(\"최고 교차 검증 점수: {:.4f}\".format(bayes_search.best_score_))\n",
    "print(\"최고 성능 모델:\\n{}\".format(bayes_search.best_estimator_))\n",
    "# 최적 매개변수: OrderedDict([('max_features', 17), ('n_estimators', 88)])\n",
    "# 최고 교차 검증 점수: 0.85\n",
    "# 최고 성능 모델:\n",
    "# RandomForestClassifier(max_features=17, n_estimators=88)"
   ]
  },
  {
   "cell_type": "code",
   "execution_count": null,
   "id": "4b372fdd",
   "metadata": {},
   "outputs": [],
   "source": []
  },
  {
   "cell_type": "code",
   "execution_count": null,
   "id": "107563e5",
   "metadata": {},
   "outputs": [],
   "source": [
    "# 딕셔너리 형태로 파라미터의 값들을 설정\n",
    "param_grid = {\"n_estimators\": range(50, 100, 5),\n",
    "              \"max_features\": range(10, 30, 3),\n",
    "             \"max_depth\" : range(3,6)}\n",
    "\n",
    "from sklearn.model_selection import GridSearchCV\n",
    "from sklearn.ensemble import RandomForestClassifier\n",
    "\n",
    "# return_train_score : 훈련 폴드(cv)의 점수를 받을지 여부를 설정\n",
    "# scoring : 분류 (accuracy, f1), 회귀 (neg_mean_squared_error, r2)\n",
    "# n_jobs : 병렬처리 수 (CPU 코어 수가 충분하다면 설정, 디폴트 1) - 내부적으로 멀티프로세스 동작 -> 속도 증가\n",
    "#grid_search = GridSearchCV(SVC(), param_grid, cv=5, return_train_score=True, scoring='f1_micro', n_jobs=2)\n",
    "grid_search = GridSearchCV(RandomForestClassifier(), param_grid, cv=10, n_jobs=-1)\n",
    "\n",
    "grid_search.fit(X_train, y_train)\n",
    "print(\"테스트 세트 점수: {:.4f}\".format(grid_search.score(X_test, y_test)))\n",
    "#테스트 세트 점수: 0.8546\n",
    "print(\"최적 매개변수: {}\".format(grid_search.best_params_))\n",
    "print(\"최고 교차 검증 점수: {:.4f}\".format(grid_search.best_score_))\n",
    "print(\"최고 성능 모델:\\n{}\".format(grid_search.best_estimator_))\n",
    "# 최적 매개변수: {'max_depth': 5, 'max_features': 28, 'n_estimators': 75}\n",
    "# 최고 교차 검증 점수: 0.8502\n",
    "# 최고 성능 모델:\n",
    "# RandomForestClassifier(max_depth=5, max_features=28, n_estimators=75)"
   ]
  },
  {
   "cell_type": "code",
   "execution_count": null,
   "id": "13251e79",
   "metadata": {},
   "outputs": [],
   "source": [
    "# 랜덤"
   ]
  },
  {
   "cell_type": "code",
   "execution_count": null,
   "id": "1af0ea83",
   "metadata": {},
   "outputs": [],
   "source": [
    "from sklearn.model_selection import RandomizedSearchCV\n",
    "\n",
    "random_search = RandomizedSearchCV(RandomForestClassifier(), \n",
    "                                   param_grid, \n",
    "                                   random_state=0,\n",
    "                                   cv=5)\n",
    "\n",
    "random_search.fit(X_train, y_train)\n",
    "print(\"테스트 세트 점수: {:.4f}\".format(random_search.score(X_test, y_test)))\n",
    "#테스트 세트 점수: 0.8529\n",
    "print(\"최적 매개변수: {}\".format(random_search.best_params_))\n",
    "print(\"최고 교차 검증 점수: {:.4f}\".format(random_search.best_score_))\n",
    "print(\"최고 성능 모델:\\n{}\".format(random_search.best_estimator_))\n",
    "# 최적 매개변수: {'n_estimators': 90, 'max_features': 22, 'max_depth': 5}\n",
    "# 최고 교차 검증 점수: 0.8479\n",
    "# 최고 성능 모델:\n",
    "# RandomForestClassifier(max_depth=5, max_features=22, n_estimators=90)"
   ]
  },
  {
   "cell_type": "code",
   "execution_count": null,
   "id": "2456380b",
   "metadata": {},
   "outputs": [],
   "source": []
  },
  {
   "cell_type": "code",
   "execution_count": null,
   "id": "7d2ced0b",
   "metadata": {},
   "outputs": [],
   "source": []
  },
  {
   "cell_type": "code",
   "execution_count": null,
   "id": "8b180391",
   "metadata": {},
   "outputs": [],
   "source": []
  },
  {
   "cell_type": "code",
   "execution_count": null,
   "id": "b3e6f935",
   "metadata": {},
   "outputs": [],
   "source": []
  },
  {
   "cell_type": "code",
   "execution_count": null,
   "id": "175e323e",
   "metadata": {},
   "outputs": [],
   "source": []
  },
  {
   "cell_type": "code",
   "execution_count": null,
   "id": "ae210e67",
   "metadata": {},
   "outputs": [],
   "source": []
  },
  {
   "cell_type": "code",
   "execution_count": null,
   "id": "f1a17912",
   "metadata": {},
   "outputs": [],
   "source": []
  },
  {
   "cell_type": "code",
   "execution_count": null,
   "id": "1e9f2679",
   "metadata": {},
   "outputs": [],
   "source": []
  },
  {
   "cell_type": "code",
   "execution_count": null,
   "id": "b4704859",
   "metadata": {},
   "outputs": [],
   "source": []
  }
 ],
 "metadata": {
  "kernelspec": {
   "display_name": "Python 3",
   "language": "python",
   "name": "python3"
  },
  "language_info": {
   "codemirror_mode": {
    "name": "ipython",
    "version": 3
   },
   "file_extension": ".py",
   "mimetype": "text/x-python",
   "name": "python",
   "nbconvert_exporter": "python",
   "pygments_lexer": "ipython3",
   "version": "3.8.8"
  }
 },
 "nbformat": 4,
 "nbformat_minor": 5
}
